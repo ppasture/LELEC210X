{
 "cells": [
  {
   "cell_type": "code",
   "execution_count": 2,
   "metadata": {},
   "outputs": [],
   "source": [
    "import os\n",
    "\n",
    "import matplotlib.pyplot as plt\n",
    "import numpy as np\n",
    "\n",
    "\"Machine learning tools\"\n",
    "import pickle\n",
    "\n",
    "from sklearn.decomposition import PCA\n",
    "from sklearn.discriminant_analysis import LinearDiscriminantAnalysis as LDA\n",
    "from sklearn.model_selection import StratifiedKFold, train_test_split\n",
    "from sklearn.neighbors import KNeighborsClassifier\n",
    "\n",
    "from classification.datasets import Dataset\n",
    "from classification.utils.audio_student import AudioUtil, Feature_vector_DS\n",
    "\n",
    "from classification.utils.plots import (\n",
    "    plot_decision_boundaries,\n",
    "    plot_specgram,\n",
    "    show_confusion_matrix,\n",
    ")\n",
    "from classification.utils.utils import accuracy"
   ]
  },
  {
   "cell_type": "code",
   "execution_count": 3,
   "metadata": {},
   "outputs": [],
   "source": [
    "np.random.seed(0)"
   ]
  },
  {
   "cell_type": "code",
   "execution_count": 4,
   "metadata": {},
   "outputs": [
    {
     "name": "stdout",
     "output_type": "stream",
     "text": [
      "chainsaw\n",
      "fire\n",
      "fireworks\n",
      "gun\n"
     ]
    }
   ],
   "source": [
    "### TO RUN\n",
    "dataset = Dataset()\n",
    "classnames = dataset.list_classes()\n",
    "\n",
    "print(\"\\n\".join(classnames))"
   ]
  },
  {
   "cell_type": "code",
   "execution_count": 5,
   "metadata": {},
   "outputs": [],
   "source": [
    "### TO RUN\n",
    "fm_dir = \"data/feature_matrices/\"  # where to save the features matrices\n",
    "model_dir = \"data/models/\"  # where to save the models\n",
    "os.makedirs(fm_dir, exist_ok=True)\n",
    "os.makedirs(model_dir, exist_ok=True)"
   ]
  },
  {
   "cell_type": "code",
   "execution_count": 6,
   "metadata": {},
   "outputs": [],
   "source": [
    "### TO RUN\n",
    "\n",
    "\"Creation of the dataset\"\n",
    "myds = Feature_vector_DS(dataset, Nft=512, nmel=20, duration=950, shift_pct=0.0)\n",
    "\n",
    "\"Some attributes...\"\n",
    "myds.nmel\n",
    "myds.duration\n",
    "myds.shift_pct\n",
    "myds.sr\n",
    "myds.data_aug\n",
    "myds.ncol\n",
    "\n",
    "\n",
    "idx = 0\n"
   ]
  },
  {
   "cell_type": "code",
   "execution_count": 7,
   "metadata": {},
   "outputs": [
    {
     "name": "stdout",
     "output_type": "stream",
     "text": [
      "Shape of the feature matrix : (160, 400)\n",
      "Number of labels : 160\n"
     ]
    }
   ],
   "source": [
    "### TO RUN\n",
    "\"Random split of 70:30 between training and validation\"\n",
    "train_pct = 0.7\n",
    "\n",
    "featveclen = len(myds[\"fire\", 0, \"\"])  # number of items in a feature vector\n",
    "nitems = len(myds)  # number of sounds in the dataset\n",
    "naudio = dataset.naudio  # number of audio files in each class\n",
    "nclass = dataset.nclass  # number of classes\n",
    "nlearn = round(naudio * train_pct)  # number of sounds among naudio for training\n",
    "\n",
    "data_aug_factor = 1\n",
    "class_ids_aug = np.repeat(classnames, naudio * data_aug_factor)\n",
    "\n",
    "\"\"\"\n",
    "X = np.zeros((data_aug_factor * nclass * naudio, featveclen))\n",
    "for s in range(data_aug_factor):\n",
    "    for class_idx, classname in enumerate(classnames):\n",
    "        for idx in range(naudio):\n",
    "            featvec = myds[classname, idx, \"\"]\n",
    "            X[s * nclass * naudio + class_idx * naudio + idx, :] = featvec\n",
    "np.save(fm_dir + \"X_basic.npy\", X)\n",
    "y = class_ids_aug.copy()\n",
    "np.save(fm_dir + \"y_basic.npy\", y)\n",
    "\"\"\"\n",
    "\n",
    "X = np.load(fm_dir+\"X_basic.npy\")\n",
    "y = np.load(fm_dir+\"y_basic.npy\")\n",
    "\n",
    "print(f\"Shape of the feature matrix : {X.shape}\")\n",
    "print(f\"Number of labels : {len(y)}\")"
   ]
  },
  {
   "cell_type": "markdown",
   "metadata": {},
   "source": [
    "We can now create a new augmented dataset and observe if the classification results improve. "
   ]
  },
  {
   "cell_type": "code",
   "execution_count": 8,
   "metadata": {},
   "outputs": [
    {
     "name": "stdout",
     "output_type": "stream",
     "text": [
      "Number of transformations :  4\n",
      "Shape of the feature matrix : (640, 400)\n",
      "------------------------------------------------------------\n",
      "200 of each transformation. Order : chainsaw1, fire1, fireworks1, gun1, chainsaw2, fire2, ...\n"
     ]
    }
   ],
   "source": [
    "### AUGMENTED DATASET\n",
    "list_augmentation = [\"original\", \"noise\", \"echo\", \"shifting\"]\n",
    "myds.mod_data_aug(list_augmentation)\n",
    "print(\"Number of transformations : \", myds.data_aug_factor)\n",
    "y_aug = np.repeat(classnames, dataset.naudio * myds.data_aug_factor)\n",
    "X_aug = np.zeros((myds.data_aug_factor * nclass * naudio, featveclen))\n",
    "\n",
    "for s in range(len(list_augmentation)):\n",
    "    aug = list_augmentation[s]\n",
    "    for idx in range(dataset.naudio):\n",
    "        for class_idx, classname in enumerate(classnames):\n",
    "            featvec = myds[classname, idx, aug]\n",
    "            X_aug[s * nclass * naudio + class_idx * naudio + idx, :] = featvec\n",
    "            y_aug[s * nclass * naudio + class_idx * naudio + idx] = classname\n",
    "\n",
    "\n",
    "print(f\"Shape of the feature matrix : {X_aug.shape}\")\n",
    "print(f\"------------------------------------------------------------\")\n",
    "print(f\"200 of each transformation. Order : chainsaw1, fire1, fireworks1, gun1, chainsaw2, fire2, ...\")\n"
   ]
  },
  {
   "cell_type": "markdown",
   "metadata": {},
   "source": [
    "FINAL MODEL SAVE"
   ]
  },
  {
   "cell_type": "code",
   "execution_count": null,
   "metadata": {},
   "outputs": [
    {
     "name": "stdout",
     "output_type": "stream",
     "text": [
      "Number of principal features kept: 119\n"
     ]
    },
    {
     "data": {
      "image/png": "[encoded data removed]",
      "text/plain": [
       "<Figure size 300x300 with 1 Axes>"
      ]
     },
     "metadata": {},
     "output_type": "display_data"
    },
    {
     "name": "stdout",
     "output_type": "stream",
     "text": [
      "\n",
      "Overall Metrics:\n",
      "Test Accuracy (Overall): 0.8125\n",
      "Mean CV Accuracy: 0.7903\n",
      "\n",
      "Per-Class Metrics:\n",
      "Class chainsaw:\n",
      "  Precision: 0.8600\n",
      "  Recall: 0.8958\n",
      "  Accuracy: 0.8958\n",
      "Class fire:\n",
      "  Precision: 0.7963\n",
      "  Recall: 0.8958\n",
      "  Accuracy: 0.8958\n",
      "Class fireworks:\n",
      "  Precision: 0.7727\n",
      "  Recall: 0.7083\n",
      "  Accuracy: 0.7083\n",
      "Class gun:\n",
      "  Precision: 0.8182\n",
      "  Recall: 0.7500\n",
      "  Accuracy: 0.7500\n",
      "\n",
      "Model saved as data/models/final_model_with_pca.pickle\n",
      "PCA Transformer saved as data/models/pca_transform.pickle\n"
     ]
    },
    {
     "data": {
      "text/plain": [
       "<Figure size 640x480 with 0 Axes>"
      ]
     },
     "metadata": {},
     "output_type": "display_data"
    }
   ],
   "source": [
    "import os\n",
    "import numpy as np\n",
    "import pickle\n",
    "import matplotlib.pyplot as plt\n",
    "from sklearn.ensemble import RandomForestClassifier\n",
    "from sklearn.decomposition import PCA\n",
    "from sklearn.model_selection import train_test_split, cross_val_score\n",
    "from sklearn.metrics import confusion_matrix, precision_score, recall_score\n",
    "from collections import defaultdict\n",
    "\n",
    "# Directories\n",
    "fm_dir = \"data/feature_matrices/\"\n",
    "model_dir = \"data/models/\"\n",
    "os.makedirs(fm_dir, exist_ok=True)\n",
    "os.makedirs(model_dir, exist_ok=True)\n",
    "\n",
    "# Load dataset\n",
    "X = X_aug\n",
    "y = y_aug\n",
    "\n",
    "# Shuffle then split the dataset into training and testing subsets\n",
    "X_train, X_test, y_train, y_test = train_test_split(\n",
    "    X, y, test_size=0.3, stratify=y\n",
    ")\n",
    "\n",
    "# Apply PCA to reduce dimensionality (keeps 95% variance)\n",
    "pca = PCA(n_components=0.98)\n",
    "X_train_pca = pca.fit_transform(X_train)\n",
    "X_test_pca = pca.transform(X_test)  # Apply same transformation to test data\n",
    "print(f\"Number of principal features kept: {pca.n_components_}\")\n",
    "\n",
    "# Train the Random Forest model with PCA embedded\n",
    "class PCA_RF_Model:\n",
    "    def __init__(self, pca, model):\n",
    "        self.pca = pca\n",
    "        self.model = model\n",
    "    \n",
    "    def fit(self, X, y):\n",
    "        X_pca = self.pca.fit_transform(X)\n",
    "        self.model.fit(X_pca, y)\n",
    "    \n",
    "    def predict(self, X):\n",
    "        X_pca = self.pca.transform(X)\n",
    "        return self.model.predict(X_pca)\n",
    "    \n",
    "    def predict_proba(self, X):\n",
    "        X_pca = self.pca.transform(X)\n",
    "        return self.model.predict_proba(X_pca)\n",
    "\n",
    "# Define the Random Forest model\n",
    "rf_model = RandomForestClassifier(\n",
    "    n_estimators=400,\n",
    "    max_depth=20,\n",
    "    min_samples_split=5,\n",
    "    min_samples_leaf=2,\n",
    "    random_state=42\n",
    ")\n",
    "\n",
    "# Wrap PCA and RF in a single model\n",
    "pca_rf_model = PCA_RF_Model(pca, rf_model)\n",
    "pca_rf_model.fit(X_train, y_train)\n",
    "\n",
    "# Evaluate model\n",
    "predict = pca_rf_model.predict(X_test)\n",
    "\n",
    "# Compute metrics for each class\n",
    "classes = np.unique(y_test)\n",
    "precision_per_class = precision_score(y_test, predict, average=None, labels=classes)\n",
    "recall_per_class = recall_score(y_test, predict, average=None, labels=classes)\n",
    "\n",
    "test_accuracy_per_class = []\n",
    "conf_matrix = confusion_matrix(y_test, predict, labels=classes)\n",
    "\n",
    "for i, cls in enumerate(classes):\n",
    "    # Calculate accuracy for each class\n",
    "    class_accuracy = conf_matrix[i, i] / conf_matrix[i, :].sum()\n",
    "    test_accuracy_per_class.append(class_accuracy)\n",
    "\n",
    "# Cross-validation accuracy\n",
    "cv_scores = cross_val_score(pca_rf_model.model, pca.transform(X_train), y_train, cv=10, scoring='accuracy')\n",
    "mean_cv_accuracy = np.mean(cv_scores)\n",
    "\n",
    "# Print results\n",
    "print(\"\\nOverall Metrics:\")\n",
    "print(f\"Test Accuracy (Overall): {np.mean(predict == y_test):.4f}\")\n",
    "print(f\"Mean CV Accuracy: {mean_cv_accuracy:.4f}\")\n",
    "\n",
    "print(\"\\nPer-Class Metrics:\")\n",
    "for i, cls in enumerate(classes):\n",
    "    print(f\"Class {cls}:\")\n",
    "    print(f\"  Precision: {precision_per_class[i]:.4f}\")\n",
    "    print(f\"  Recall: {recall_per_class[i]:.4f}\")\n",
    "    print(f\"  Accuracy: {test_accuracy_per_class[i]:.4f}\")\n",
    "\n",
    "# SAVE THE MODEL (PCA included)\n",
    "filename = os.path.join(model_dir, \"final_model_with_pca.pickle\")\n",
    "with open(filename, \"wb\") as model_file:\n",
    "    pickle.dump(pca_rf_model, model_file)\n",
    "\n",
    "print(f\"\\nModel saved as {filename}\")\n"
   ]
  },
  {
   "cell_type": "markdown",
   "metadata": {},
   "source": [
    "MEAN ACCURACY ON 100 ITERATIONS"
   ]
  },
  {
   "cell_type": "code",
   "execution_count": 10,
   "metadata": {},
   "outputs": [
    {
     "name": "stdout",
     "output_type": "stream",
     "text": [
      "\n",
      "Iteration 1/20\n"
     ]
    },
    {
     "name": "stdout",
     "output_type": "stream",
     "text": [
      "Test Accuracy: 0.7656 | Mean CV Accuracy: 0.7566\n",
      "\n",
      "Iteration 2/20\n",
      "Test Accuracy: 0.7604 | Mean CV Accuracy: 0.7677\n",
      "\n",
      "Iteration 3/20\n",
      "Test Accuracy: 0.7760 | Mean CV Accuracy: 0.7746\n",
      "\n",
      "Iteration 4/20\n",
      "Test Accuracy: 0.8229 | Mean CV Accuracy: 0.7791\n",
      "\n",
      "Iteration 5/20\n",
      "Test Accuracy: 0.7656 | Mean CV Accuracy: 0.7811\n",
      "\n",
      "Iteration 6/20\n",
      "Test Accuracy: 0.7552 | Mean CV Accuracy: 0.7748\n",
      "\n",
      "Iteration 7/20\n",
      "Test Accuracy: 0.7604 | Mean CV Accuracy: 0.7767\n",
      "\n",
      "Iteration 8/20\n",
      "Test Accuracy: 0.8333 | Mean CV Accuracy: 0.7657\n",
      "\n",
      "Iteration 9/20\n",
      "Test Accuracy: 0.7812 | Mean CV Accuracy: 0.7611\n",
      "\n",
      "Iteration 10/20\n",
      "Test Accuracy: 0.7812 | Mean CV Accuracy: 0.7860\n",
      "\n",
      "Iteration 11/20\n",
      "Test Accuracy: 0.7760 | Mean CV Accuracy: 0.7815\n",
      "\n",
      "Iteration 12/20\n",
      "Test Accuracy: 0.7500 | Mean CV Accuracy: 0.7879\n",
      "\n",
      "Iteration 13/20\n",
      "Test Accuracy: 0.7917 | Mean CV Accuracy: 0.7968\n",
      "\n",
      "Iteration 14/20\n",
      "Test Accuracy: 0.7760 | Mean CV Accuracy: 0.7680\n",
      "\n",
      "Iteration 15/20\n",
      "Test Accuracy: 0.7500 | Mean CV Accuracy: 0.7834\n",
      "\n",
      "Iteration 16/20\n",
      "Test Accuracy: 0.7552 | Mean CV Accuracy: 0.7767\n",
      "\n",
      "Iteration 17/20\n",
      "Test Accuracy: 0.7969 | Mean CV Accuracy: 0.7500\n",
      "\n",
      "Iteration 18/20\n",
      "Test Accuracy: 0.7604 | Mean CV Accuracy: 0.7946\n",
      "\n",
      "Iteration 19/20\n",
      "Test Accuracy: 0.8333 | Mean CV Accuracy: 0.7656\n",
      "\n",
      "Iteration 20/20\n",
      "Test Accuracy: 0.7917 | Mean CV Accuracy: 0.7815\n",
      "\n",
      "=== FINAL RESULTS AFTER 100 ITERATIONS ===\n",
      "Mean Test Accuracy: 0.7792 ± 0.0252\n",
      "Mean Cross-Validation Accuracy: 0.7755 ± 0.0118\n"
     ]
    }
   ],
   "source": [
    "import os\n",
    "import numpy as np\n",
    "import pickle\n",
    "import matplotlib.pyplot as plt\n",
    "from sklearn.ensemble import RandomForestClassifier\n",
    "from sklearn.model_selection import train_test_split, cross_val_score\n",
    "from sklearn.metrics import confusion_matrix, precision_score, recall_score\n",
    "from classification.utils.utils import accuracy\n",
    "\n",
    "# Directories for saving models\n",
    "model_dir = \"data/models/\"\n",
    "os.makedirs(model_dir, exist_ok=True)\n",
    "\n",
    "# Ensure dataset (X_aug, y_aug) exists\n",
    "try:\n",
    "    X = X_aug\n",
    "    y = y_aug\n",
    "except NameError:\n",
    "    raise ValueError(\"X_aug and y_aug must be defined before running this script.\")\n",
    "\n",
    "# Number of iterations\n",
    "num_iterations = 20\n",
    "\n",
    "# Lists to store scores\n",
    "accuracy_scores = []\n",
    "cv_accuracy_scores = []\n",
    "\n",
    "for i in range(num_iterations):\n",
    "    print(f\"\\nIteration {i + 1}/{num_iterations}\")\n",
    "\n",
    "    # Split the dataset into training and testing subsets\n",
    "    X_train, X_test, y_train, y_test = train_test_split(\n",
    "        X, y, test_size=0.3, stratify=y, random_state=i  # Different splits per iteration\n",
    "    )\n",
    "\n",
    "    # Train the Random Forest model\n",
    "    model = RandomForestClassifier(\n",
    "        n_estimators=400,\n",
    "        max_depth=20,\n",
    "        min_samples_split=5,\n",
    "        min_samples_leaf=2,\n",
    "        random_state=i  # Different initialization per iteration\n",
    "    )\n",
    "    model.fit(X_train, y_train)\n",
    "\n",
    "    # Make predictions\n",
    "    y_pred = model.predict(X_test)\n",
    "\n",
    "    # Compute overall accuracy\n",
    "    test_accuracy = accuracy(y_pred, y_test)\n",
    "    accuracy_scores.append(test_accuracy)\n",
    "\n",
    "    # Perform cross-validation on the training set\n",
    "    cv_scores = cross_val_score(model, X_train, y_train, cv=10, scoring='accuracy')\n",
    "    mean_cv_accuracy = np.mean(cv_scores)\n",
    "    cv_accuracy_scores.append(mean_cv_accuracy)\n",
    "\n",
    "    print(f\"Test Accuracy: {test_accuracy:.4f} | Mean CV Accuracy: {mean_cv_accuracy:.4f}\")\n",
    "\n",
    "# Compute overall statistics\n",
    "mean_test_accuracy = np.mean(accuracy_scores)\n",
    "std_test_accuracy = np.std(accuracy_scores)\n",
    "\n",
    "mean_cv_accuracy = np.mean(cv_accuracy_scores)\n",
    "std_cv_accuracy = np.std(cv_accuracy_scores)\n",
    "\n",
    "# Print final results\n",
    "print(\"\\n=== FINAL RESULTS AFTER 100 ITERATIONS ===\")\n",
    "print(f\"Mean Test Accuracy: {mean_test_accuracy:.4f} ± {std_test_accuracy:.4f}\")\n",
    "print(f\"Mean Cross-Validation Accuracy: {mean_cv_accuracy:.4f} ± {std_cv_accuracy:.4f}\")\n"
   ]
  }
 ],
 "metadata": {
  "kernelspec": {
   "display_name": ".venv",
   "language": "python",
   "name": "python3"
  },
  "language_info": {
   "codemirror_mode": {
    "name": "ipython",
    "version": 3
   },
   "file_extension": ".py",
   "mimetype": "text/x-python",
   "name": "python",
   "nbconvert_exporter": "python",
   "pygments_lexer": "ipython3",
   "version": "3.9.18"
  }
 },
 "nbformat": 4,
 "nbformat_minor": 2
}
